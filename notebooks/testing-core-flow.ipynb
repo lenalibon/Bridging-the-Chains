{
 "cells": [
  {
   "cell_type": "code",
   "execution_count": 1,
   "id": "9253fa9b",
   "metadata": {},
   "outputs": [],
   "source": [
    "%load_ext autoreload\n",
    "%autoreload 2"
   ]
  },
  {
   "cell_type": "code",
   "execution_count": 2,
   "id": "5caeabbd",
   "metadata": {},
   "outputs": [
    {
     "name": "stderr",
     "output_type": "stream",
     "text": [
      "DEBUG:core.main:logger initialized!\n"
     ]
    }
   ],
   "source": [
    "from pathlib import Path\n",
    "import sys\n",
    "\n",
    "project_root = Path().resolve().parent\n",
    "\n",
    "if str(project_root) not in sys.path:\n",
    "    sys.path.insert(0, str(project_root)) # insert at 0 to prioritize this path\n",
    "\n",
    "from core.main import Experiment"
   ]
  },
  {
   "cell_type": "code",
   "execution_count": 11,
   "id": "f14c0fda",
   "metadata": {},
   "outputs": [],
   "source": [
    "import gc\n",
    "import torch\n",
    "\n",
    "# Clear Python garbage\n",
    "gc.collect()\n",
    "\n",
    "# Clear PyTorch CUDA cache\n",
    "torch.cuda.empty_cache()\n",
    "torch.cuda.ipc_collect()"
   ]
  },
  {
   "cell_type": "code",
   "execution_count": 12,
   "id": "101093f1",
   "metadata": {},
   "outputs": [
    {
     "name": "stderr",
     "output_type": "stream",
     "text": [
      "INFO:core.main:Running full evaluation...\n",
      "DEBUG:core.main:stop_tokens=['\\n', '<eos>']\n",
      "DEBUG:core.main:==== prompt  ====\n",
      " You are a math tutor. You will be given a math question and you need to answer it step by step, in JSON format. Let's think step by step.\n",
      "\n",
      "{\n",
      "  \"question\": \"Billy sells DVDs. He has 8 customers on Tuesday. His first 3 customers buy one DVD each.  His next 2 customers buy 2 DVDs each.  His last 3 customers don't buy any DVDs. How many DVDs did Billy sell on Tuesday?\",\n",
      "  \"cot_steps\": [\n",
      "    \"The first 3 customers buy 1 DVD each, so they buy 3 * 1 = 3 DVDs.\",\n",
      "    \"The next 2 customers buy 2 DVDs each, so they buy 2 * 2 = 4 DVDs.\",\n",
      "    \"The last 3 customers buy 0 DVDs each, so they buy 3 * 0 = 0 DVDs.\",\n",
      "    \"In total, Billy sells 3 + 4 + 0 = 7 DVDs.\",\n",
      "    \"So, the answer is 7.\"\n",
      "  ]\n",
      "},\n",
      "{\n",
      "  \"question\": \"Janet’s ducks lay 16 eggs per day. She eats three for breakfast every morning and bakes muffins for her friends every day with four. She sells the remainder at the farmers' market daily for $2 per fresh duck egg. How much in dollars does she make every day at the farmers' market?\",\n",
      "  \"cot_steps\": [\n",
      "\n",
      "DEBUG:core.main:=================\n",
      "DEBUG:core.main:chains.prompt_offset=307\n",
      "DEBUG:core.main:=== next[0] ===\n",
      "     \"Janet eats 3 eggs each morning, so she eats 3 eggs / day = 3 eggs per day.\",\n",
      "\n",
      "DEBUG:core.main:=================\n",
      "DEBUG:core.main:chains.prompt_offset=307\n",
      "DEBUG:core.main:=== next[0] ===\n",
      "     \"Janet eats 3 eggs each morning, so she eats 3 eggs / day = 3 eggs per day.\",\n",
      "    \"She bakes muffins for 4 days, so she bakes 4 muffins / day = 4 muffins per day.\",\n",
      "\n",
      "DEBUG:core.main:=================\n",
      "DEBUG:core.main:chains.prompt_offset=307\n",
      "DEBUG:core.main:=== next[0] ===\n",
      "     \"Janet eats 3 eggs each morning, so she eats 3 eggs / day = 3 eggs per day.\",\n",
      "    \"She bakes muffins for 4 days, so she bakes 4 muffins / day = 4 muffins per day.\",\n",
      "    \"The number of eggs she has is 16 eggs/day. She eats 3 eggs/morning, and bakes muffins for 4 days. The number of eggs remaining is 16 - 3 - 4 = 9 eggs.\",\n",
      "\n",
      "DEBUG:core.main:=================\n",
      "DEBUG:core.main:chains.prompt_offset=307\n",
      "DEBUG:core.main:=== next[0] ===\n",
      "     \"Janet eats 3 eggs each morning, so she eats 3 eggs / day = 3 eggs per day.\",\n",
      "    \"She bakes muffins for 4 days, so she bakes 4 muffins / day = 4 muffins per day.\",\n",
      "    \"The number of eggs she has is 16 eggs/day. She eats 3 eggs/morning, and bakes muffins for 4 days. The number of eggs remaining is 16 - 3 - 4 = 9 eggs.\",\n",
      "    \"She sells each egg for $2, so she makes 9 eggs * $2/egg = 18 dollars.\",\n",
      "\n",
      "DEBUG:core.main:=================\n",
      "DEBUG:core.main:chains.prompt_offset=307\n",
      "DEBUG:core.main:=== next[0] ===\n",
      "     \"Janet eats 3 eggs each morning, so she eats 3 eggs / day = 3 eggs per day.\",\n",
      "    \"She bakes muffins for 4 days, so she bakes 4 muffins / day = 4 muffins per day.\",\n",
      "    \"The number of eggs she has is 16 eggs/day. She eats 3 eggs/morning, and bakes muffins for 4 days. The number of eggs remaining is 16 - 3 - 4 = 9 eggs.\",\n",
      "    \"She sells each egg for $2, so she makes 9 eggs * $2/egg = 18 dollars.\",\n",
      "    \"So, the answer is 18.\"\n",
      "\n",
      "DEBUG:core.main:=================\n",
      "DEBUG:core.main:chains.prompt_offset=307\n",
      "DEBUG:core.main:=== next[0] ===\n",
      "     \"Janet eats 3 eggs each morning, so she eats 3 eggs / day = 3 eggs per day.\",\n",
      "    \"She bakes muffins for 4 days, so she bakes 4 muffins / day = 4 muffins per day.\",\n",
      "    \"The number of eggs she has is 16 eggs/day. She eats 3 eggs/morning, and bakes muffins for 4 days. The number of eggs remaining is 16 - 3 - 4 = 9 eggs.\",\n",
      "    \"She sells each egg for $2, so she makes 9 eggs * $2/egg = 18 dollars.\",\n",
      "    \"So, the answer is 18.\"\n",
      "  ]\n",
      "\n",
      "DEBUG:core.main:=================\n",
      "DEBUG:core.main:pyrepr: [    \"Janet eats 3 eggs each morning, so she eats 3 eggs / day = 3 eggs per day.\",\n",
      "    \"She bakes muffins for 4 days, so she bakes 4 muffins / day = 4 muffins per day.\",\n",
      "    \"The number of eggs she has is 16 eggs/day. She eats 3 eggs/morning, and bakes muffins for 4 days. The number of eggs remaining is 16 - 3 - 4 = 9 eggs.\",\n",
      "    \"She sells each egg for $2, so she makes 9 eggs * $2/egg = 18 dollars.\",\n",
      "    \"So, the answer is 18.\"\n",
      "  ]\n",
      "\n",
      "DEBUG:core.main:==== prompt  ====\n",
      " You are a math tutor. You will be given a math question and you need to answer it step by step, in JSON format. Let's think step by step.\n",
      "\n",
      "{\n",
      "  \"question\": \"Billy sells DVDs. He has 8 customers on Tuesday. His first 3 customers buy one DVD each.  His next 2 customers buy 2 DVDs each.  His last 3 customers don't buy any DVDs. How many DVDs did Billy sell on Tuesday?\",\n",
      "  \"cot_steps\": [\n",
      "    \"The first 3 customers buy 1 DVD each, so they buy 3 * 1 = 3 DVDs.\",\n",
      "    \"The next 2 customers buy 2 DVDs each, so they buy 2 * 2 = 4 DVDs.\",\n",
      "    \"The last 3 customers buy 0 DVDs each, so they buy 3 * 0 = 0 DVDs.\",\n",
      "    \"In total, Billy sells 3 + 4 + 0 = 7 DVDs.\",\n",
      "    \"So, the answer is 7.\"\n",
      "  ]\n",
      "},\n",
      "{\n",
      "  \"question\": \"A robe takes 2 bolts of blue fiber and half that much white fiber.  How many bolts in total does it take?\",\n",
      "  \"cot_steps\": [\n",
      "\n",
      "DEBUG:core.main:=================\n",
      "DEBUG:core.main:chains.prompt_offset=269\n",
      "DEBUG:core.main:=== next[0] ===\n",
      "     \"The robe takes 2 bolts of blue fiber, so it takes 2 bolts of blue fiber.\",\n",
      "\n",
      "DEBUG:core.main:=================\n",
      "DEBUG:core.main:chains.prompt_offset=269\n",
      "DEBUG:core.main:=== next[0] ===\n",
      "     \"The robe takes 2 bolts of blue fiber, so it takes 2 bolts of blue fiber.\",\n",
      "    \"The robe takes half that much white fiber, so it takes 2 / 2 = 1 bolt of white fiber.\",\n",
      "\n",
      "DEBUG:core.main:=================\n",
      "DEBUG:core.main:chains.prompt_offset=269\n",
      "DEBUG:core.main:=== next[0] ===\n",
      "     \"The robe takes 2 bolts of blue fiber, so it takes 2 bolts of blue fiber.\",\n",
      "    \"The robe takes half that much white fiber, so it takes 2 / 2 = 1 bolt of white fiber.\",\n",
      "    \"In total, the robe takes 2 + 1 = 3 bolts of fiber.\",\n",
      "\n",
      "DEBUG:core.main:=================\n",
      "DEBUG:core.main:chains.prompt_offset=269\n",
      "DEBUG:core.main:=== next[0] ===\n",
      "     \"The robe takes 2 bolts of blue fiber, so it takes 2 bolts of blue fiber.\",\n",
      "    \"The robe takes half that much white fiber, so it takes 2 / 2 = 1 bolt of white fiber.\",\n",
      "    \"In total, the robe takes 2 + 1 = 3 bolts of fiber.\",\n",
      "    \"So, the answer is 3.\"\n",
      "\n",
      "DEBUG:core.main:=================\n",
      "DEBUG:core.main:chains.prompt_offset=269\n",
      "DEBUG:core.main:=== next[0] ===\n",
      "     \"The robe takes 2 bolts of blue fiber, so it takes 2 bolts of blue fiber.\",\n",
      "    \"The robe takes half that much white fiber, so it takes 2 / 2 = 1 bolt of white fiber.\",\n",
      "    \"In total, the robe takes 2 + 1 = 3 bolts of fiber.\",\n",
      "    \"So, the answer is 3.\"\n",
      "  ]\n",
      "\n",
      "DEBUG:core.main:=================\n",
      "DEBUG:core.main:pyrepr: [    \"The robe takes 2 bolts of blue fiber, so it takes 2 bolts of blue fiber.\",\n",
      "    \"The robe takes half that much white fiber, so it takes 2 / 2 = 1 bolt of white fiber.\",\n",
      "    \"In total, the robe takes 2 + 1 = 3 bolts of fiber.\",\n",
      "    \"So, the answer is 3.\"\n",
      "  ]\n",
      "\n"
     ]
    }
   ],
   "source": [
    "Experiment().eval()"
   ]
  },
  {
   "cell_type": "code",
   "execution_count": null,
   "id": "7fa4d591",
   "metadata": {},
   "outputs": [],
   "source": [
    "from core.utils import Chain"
   ]
  },
  {
   "cell_type": "code",
   "execution_count": 4,
   "id": "0b2f26d8",
   "metadata": {},
   "outputs": [
    {
     "name": "stdout",
     "output_type": "stream",
     "text": [
      "You are a math tutor. You will be given a math question and you need to answer it step by step, in JSON format. Let's think step by step.\n",
      "\n",
      "{\n",
      "  \"question\": \"Billy sells DVDs. He has 8 customers on Tuesday. His first 3 customers buy one DVD each.  His next 2 customers buy 2 DVDs each.  His last 3 customers don't buy any DVDs. How many DVDs did Billy sell on Tuesday?\",\n",
      "  \"cot_steps\": [\n",
      "    \"The first 3 customers buy 1 DVD each, so they buy 3 * 1 = 3 DVDs.\",\n",
      "    \"The next 2 customers buy 2 DVDs each, so they buy 2 * 2 = 4 DVDs.\",\n",
      "    \"The last 3 customers buy 0 DVDs each, so they buy 3 * 0 = 0 DVDs.\",\n",
      "    \"In total, Billy sells 3 + 4 + 0 = 7 DVDs.\",\n",
      "    \"So, the answer is 7.\"\n",
      "  ]\n",
      "},\n",
      "{\n",
      "  \"question\": \"HI\",\n",
      "  \"cot_steps\": [\n",
      "\n"
     ]
    }
   ],
   "source": [
    "from core import utils\n",
    "\n",
    "print(utils.SIMPLE_PROMPT_TEMPLATE.format(question=\"HI\"))"
   ]
  },
  {
   "cell_type": "code",
   "execution_count": 11,
   "id": "501cab82",
   "metadata": {},
   "outputs": [
    {
     "data": {
      "text/plain": [
       "'{{'"
      ]
     },
     "execution_count": 11,
     "metadata": {},
     "output_type": "execute_result"
    }
   ],
   "source": [
    "'{{'"
   ]
  }
 ],
 "metadata": {
  "kernelspec": {
   "display_name": "env3.12-csnlp",
   "language": "python",
   "name": "python3"
  },
  "language_info": {
   "codemirror_mode": {
    "name": "ipython",
    "version": 3
   },
   "file_extension": ".py",
   "mimetype": "text/x-python",
   "name": "python",
   "nbconvert_exporter": "python",
   "pygments_lexer": "ipython3",
   "version": "3.12.10"
  }
 },
 "nbformat": 4,
 "nbformat_minor": 5
}
